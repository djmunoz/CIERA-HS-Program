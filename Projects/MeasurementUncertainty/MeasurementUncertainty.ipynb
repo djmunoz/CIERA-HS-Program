{
 "cells": [
  {
   "cell_type": "markdown",
   "id": "c0693c4e",
   "metadata": {},
   "source": [
    "# Measurement Uncertainty and Error Propagation"
   ]
  },
  {
   "cell_type": "markdown",
   "id": "62b4aefd",
   "metadata": {},
   "source": [
    "Every time we conduct a measurement, the number we obtain comes with an associated uncertainty. This uncertainty quantifies the precision of the experiment as well as our degree of ignorance of the targeted number."
   ]
  },
  {
   "cell_type": "markdown",
   "id": "85142609",
   "metadata": {},
   "source": [
    "## Types of error"
   ]
  },
  {
   "cell_type": "markdown",
   "id": "2c407d0f",
   "metadata": {},
   "source": [
    "*Measurement uncertainty* can be intrinsic (t)"
   ]
  }
 ],
 "metadata": {
  "kernelspec": {
   "display_name": "Python 3",
   "language": "python",
   "name": "python3"
  },
  "language_info": {
   "codemirror_mode": {
    "name": "ipython",
    "version": 3
   },
   "file_extension": ".py",
   "mimetype": "text/x-python",
   "name": "python",
   "nbconvert_exporter": "python",
   "pygments_lexer": "ipython3",
   "version": "3.8.8"
  }
 },
 "nbformat": 4,
 "nbformat_minor": 5
}
