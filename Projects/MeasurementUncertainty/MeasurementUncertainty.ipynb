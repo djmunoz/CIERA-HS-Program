{
 "cells": [
  {
   "cell_type": "markdown",
   "id": "af6ff963",
   "metadata": {},
   "source": [
    "# Measurement Uncertainty and Error Propagation"
   ]
  },
  {
   "cell_type": "markdown",
   "id": "69eea134",
   "metadata": {},
   "source": [
    "\"All measurements, however careful and scientific, are subject to some uncertainties.\" \n",
    "-J.R Taylor in *An Introduction to Error Analysis*"
   ]
  },
  {
   "cell_type": "markdown",
   "id": "686a6f01",
   "metadata": {},
   "source": [
    "## Inevitability of Uncertainty"
   ]
  },
  {
   "cell_type": "markdown",
   "id": "16c11299",
   "metadata": {},
   "source": [
    "Every time we conduct a measurement, the number we obtain comes with an associated uncertainty. This uncertainty quantifies the precision of the experiment as well as our degree of ignorance of the targeted number.\n",
    "\n",
    "For example, every time we use a tape measure, graduated in eigths of an inch, we may be able to tell that say, the length of a window, is between 54 1/8'' and 54 2/8'' --or between 54.175 in and 54.25 in. But we are unable to precisely tell if the length is 54.18 in or 54.24 in. Moreover, if the tape measure *appears* to exactly fall at the 54 1/8''  mark, we are not able to tell accurately if the length of the window is 54.175 or 54.1750001,"
   ]
  },
  {
   "cell_type": "markdown",
   "id": "de87126a",
   "metadata": {},
   "source": [
    "## Types of error"
   ]
  },
  {
   "cell_type": "markdown",
   "id": "fe92da1e",
   "metadata": {},
   "source": [
    "**Measurement uncertainty** is often (but not always) used interchangeably with **experimental error**"
   ]
  },
  {
   "cell_type": "markdown",
   "id": "6c1af631",
   "metadata": {},
   "source": [
    "$({\\rm measured A)=A_{\\rm best}\\pm\\delta A$"
   ]
  },
  {
   "cell_type": "markdown",
   "id": "67977c29",
   "metadata": {},
   "source": [
    "## Displaying Uncertainty in a Graph"
   ]
  },
  {
   "cell_type": "code",
   "execution_count": 4,
   "id": "effc4fe5",
   "metadata": {},
   "outputs": [
    {
     "name": "stdout",
     "output_type": "stream",
     "text": [
      "Collecting package metadata (current_repodata.json): done\n",
      "Solving environment: failed with initial frozen solve. Retrying with flexible solve.\n",
      "Collecting package metadata (repodata.json): done\n",
      "Solving environment: failed with initial frozen solve. Retrying with flexible solve.\n",
      "\n",
      "PackagesNotFoundError: The following packages are not available from current channels:\n",
      "\n",
      "  - pyastronomy\n",
      "\n",
      "Current channels:\n",
      "\n",
      "  - https://repo.anaconda.com/pkgs/main/osx-64\n",
      "  - https://repo.anaconda.com/pkgs/main/noarch\n",
      "  - https://repo.anaconda.com/pkgs/r/osx-64\n",
      "  - https://repo.anaconda.com/pkgs/r/noarch\n",
      "\n",
      "To search for alternate channels that may provide the conda package you're\n",
      "looking for, navigate to\n",
      "\n",
      "    https://anaconda.org\n",
      "\n",
      "and use the search bar at the top of the page.\n",
      "\n",
      "\n"
     ]
    }
   ],
   "source": [
    "import sys\n",
    "!conda install --yes --prefix {sys.prefix} PyAstronomy\n"
   ]
  },
  {
   "cell_type": "code",
   "execution_count": 10,
   "id": "7f0c0748",
   "metadata": {},
   "outputs": [
    {
     "name": "stdout",
     "output_type": "stream",
     "text": [
      "Column        Description                          Unit \n",
      "---------------------------------------------------------------\n",
      "pl_name       Name of the planet                        \n",
      "pl_orbper     Planetary orbital period             d    \n",
      "pl_massj      Planetary mass                       MJ   \n",
      "pl_msini      Minimum planetary mass               MJ   \n",
      "pl_radj       Planetary radius                     RJ   \n",
      "pl_trandep    Central depth of transit             (r_p/r_star)^2\n",
      "pl_impact     Impact Parameter                     Stellar Radii\n",
      "pl_trandur    Duration of transit                  d    \n",
      "pl_tranmid    Transit midpoint                     BJD  \n",
      "pl_tperi      Time of Periastron passage           d    \n",
      "pl_orbsmax    Semi-major-axis                      AU   \n",
      "pl_orbsmaxr   Ratio sma to R_star                  Stellar Radii\n",
      "pl_orbincl    Orbital inclination of planet        deg  \n",
      "pl_missal     Orbital misalignment of planet       deg  \n",
      "pl_omega      Argument of Periastron               deg  \n",
      "pl_ecc        Planetary orbital eccentricity            \n",
      "pl_grav       Planetary surface gravity            log10(cm/s^2)\n",
      "pl_dens       Planetary Density                    g/cm^3\n",
      "pl_dtype      Detection type                            \n",
      "KOI           Kepler ID (if available)                  \n",
      "pl_hostname   Name of host star                         \n",
      "st_binary     Binary Flag                               \n",
      "st_rad        Radius of star                       Solar\n",
      "st_dist       Distance to Star                     pc   \n",
      "st_par        Stellar parallax                     mas  \n",
      "st_mass       Stellar mass                         Solar\n",
      "st_teff       Stellar effective temperature        K    \n",
      "st_vsini      Stellar vsin(i)                      km/s \n",
      "st_logg       Stellar surface gravity              cm/s**2\n",
      "st_acts       Stellar S-Index                           \n",
      "st_actc       Stellar chromospheric activity            \n",
      "st_vj         Stellar V-band brightness            mag  \n",
      "st_fe         Stellar metallicity                       \n",
      "st_radv       System radial velocity               km/s \n",
      "st_dens       Density of star                      g/cm^3\n",
      "K             Velocity Semi-amplitude              m/s  \n",
      "dec           Declination (J2000)                  dms  \n",
      "ra            Right ascension (J2000)              hms  \n",
      "---------------------------------------------------------------\n"
     ]
    }
   ],
   "source": [
    "dir(pyasl)\n",
    "epl = pyasl.ExoplanetsOrg()\n",
    "# Show the available columns\n",
    "epl.availableColumns()\n",
    "\n",
    "# Get information in Kepler-5 b\n",
    "d = epl.selectByPlanetName(\"kepler-5 b\")"
   ]
  },
  {
   "cell_type": "code",
   "execution_count": 5,
   "id": "21b7be25",
   "metadata": {},
   "outputs": [
    {
     "ename": "ValueError",
     "evalue": "no field of name ***PLEASE READ*** This table is no longer updated and has been replaced by the Planetary Systems table (PS)",
     "output_type": "error",
     "traceback": [
      "\u001b[0;31m---------------------------------------------------------------------------\u001b[0m",
      "\u001b[0;31mValueError\u001b[0m                                Traceback (most recent call last)",
      "\u001b[0;32m<ipython-input-5-0b3e28de2df7>\u001b[0m in \u001b[0;36m<module>\u001b[0;34m\u001b[0m\n\u001b[1;32m      2\u001b[0m \u001b[0;32mimport\u001b[0m \u001b[0mmatplotlib\u001b[0m\u001b[0;34m.\u001b[0m\u001b[0mpylab\u001b[0m \u001b[0;32mas\u001b[0m \u001b[0mplt\u001b[0m\u001b[0;34m\u001b[0m\u001b[0;34m\u001b[0m\u001b[0m\n\u001b[1;32m      3\u001b[0m \u001b[0;34m\u001b[0m\u001b[0m\n\u001b[0;32m----> 4\u001b[0;31m \u001b[0mnexa\u001b[0m \u001b[0;34m=\u001b[0m \u001b[0mpyasl\u001b[0m\u001b[0;34m.\u001b[0m\u001b[0mNasaExoplanetArchive\u001b[0m\u001b[0;34m(\u001b[0m\u001b[0;34m)\u001b[0m\u001b[0;34m\u001b[0m\u001b[0;34m\u001b[0m\u001b[0m\n\u001b[0m\u001b[1;32m      5\u001b[0m \u001b[0;34m\u001b[0m\u001b[0m\n\u001b[1;32m      6\u001b[0m \u001b[0;31m# See what information is available\u001b[0m\u001b[0;34m\u001b[0m\u001b[0;34m\u001b[0m\u001b[0;34m\u001b[0m\u001b[0m\n",
      "\u001b[0;32m~/anaconda3/lib/python3.8/site-packages/PyAstronomy/pyasl/resBased/nasaExoplanetArchive.py\u001b[0m in \u001b[0;36m__init__\u001b[0;34m(self)\u001b[0m\n\u001b[1;32m    112\u001b[0m             \u001b[0mprint\u001b[0m\u001b[0;34m(\u001b[0m\u001b[0;34m\"By default, the data will be downloaded anew every 7 days.\"\u001b[0m\u001b[0;34m)\u001b[0m\u001b[0;34m\u001b[0m\u001b[0;34m\u001b[0m\u001b[0m\n\u001b[1;32m    113\u001b[0m             \u001b[0mprint\u001b[0m\u001b[0;34m(\u001b[0m\u001b[0;34m\"You can use the `changeDownloadCycle` to change this behavior.\"\u001b[0m\u001b[0;34m)\u001b[0m\u001b[0;34m\u001b[0m\u001b[0;34m\u001b[0m\u001b[0m\n\u001b[0;32m--> 114\u001b[0;31m         \u001b[0mself\u001b[0m\u001b[0;34m.\u001b[0m\u001b[0m_readData\u001b[0m\u001b[0;34m(\u001b[0m\u001b[0;34m)\u001b[0m\u001b[0;34m\u001b[0m\u001b[0;34m\u001b[0m\u001b[0m\n\u001b[0m\u001b[1;32m    115\u001b[0m \u001b[0;34m\u001b[0m\u001b[0m\n\u001b[1;32m    116\u001b[0m     \u001b[0;32mdef\u001b[0m \u001b[0mdownloadData\u001b[0m\u001b[0;34m(\u001b[0m\u001b[0mself\u001b[0m\u001b[0;34m)\u001b[0m\u001b[0;34m:\u001b[0m\u001b[0;34m\u001b[0m\u001b[0;34m\u001b[0m\u001b[0m\n",
      "\u001b[0;32m~/anaconda3/lib/python3.8/site-packages/PyAstronomy/pyasl/resBased/nasaExoplanetArchive.py\u001b[0m in \u001b[0;36m_readData\u001b[0;34m(self)\u001b[0m\n\u001b[1;32m    137\u001b[0m                 \u001b[0;32mif\u001b[0m \u001b[0mlen\u001b[0m\u001b[0;34m(\u001b[0m\u001b[0mv\u001b[0m\u001b[0;34m)\u001b[0m \u001b[0;34m==\u001b[0m \u001b[0;36m0\u001b[0m\u001b[0;34m:\u001b[0m\u001b[0;34m\u001b[0m\u001b[0;34m\u001b[0m\u001b[0m\n\u001b[1;32m    138\u001b[0m                     \u001b[0mv\u001b[0m \u001b[0;34m=\u001b[0m \u001b[0;32mNone\u001b[0m\u001b[0;34m\u001b[0m\u001b[0;34m\u001b[0m\u001b[0m\n\u001b[0;32m--> 139\u001b[0;31m                 \u001b[0mself\u001b[0m\u001b[0;34m.\u001b[0m\u001b[0mdata\u001b[0m\u001b[0;34m[\u001b[0m\u001b[0mk\u001b[0m\u001b[0;34m]\u001b[0m\u001b[0;34m[\u001b[0m\u001b[0mi\u001b[0m\u001b[0;34m]\u001b[0m \u001b[0;34m=\u001b[0m \u001b[0mv\u001b[0m\u001b[0;34m\u001b[0m\u001b[0;34m\u001b[0m\u001b[0m\n\u001b[0m\u001b[1;32m    140\u001b[0m \u001b[0;34m\u001b[0m\u001b[0m\n\u001b[1;32m    141\u001b[0m     \u001b[0;32mdef\u001b[0m \u001b[0mavailableColumns\u001b[0m\u001b[0;34m(\u001b[0m\u001b[0mself\u001b[0m\u001b[0;34m,\u001b[0m \u001b[0mverbose\u001b[0m\u001b[0;34m=\u001b[0m\u001b[0;32mTrue\u001b[0m\u001b[0;34m)\u001b[0m\u001b[0;34m:\u001b[0m\u001b[0;34m\u001b[0m\u001b[0;34m\u001b[0m\u001b[0m\n",
      "\u001b[0;32m~/anaconda3/lib/python3.8/site-packages/numpy/core/records.py\u001b[0m in \u001b[0;36m__getitem__\u001b[0;34m(self, indx)\u001b[0m\n\u001b[1;32m    517\u001b[0m \u001b[0;34m\u001b[0m\u001b[0m\n\u001b[1;32m    518\u001b[0m     \u001b[0;32mdef\u001b[0m \u001b[0m__getitem__\u001b[0m\u001b[0;34m(\u001b[0m\u001b[0mself\u001b[0m\u001b[0;34m,\u001b[0m \u001b[0mindx\u001b[0m\u001b[0;34m)\u001b[0m\u001b[0;34m:\u001b[0m\u001b[0;34m\u001b[0m\u001b[0;34m\u001b[0m\u001b[0m\n\u001b[0;32m--> 519\u001b[0;31m         \u001b[0mobj\u001b[0m \u001b[0;34m=\u001b[0m \u001b[0msuper\u001b[0m\u001b[0;34m(\u001b[0m\u001b[0mrecarray\u001b[0m\u001b[0;34m,\u001b[0m \u001b[0mself\u001b[0m\u001b[0;34m)\u001b[0m\u001b[0;34m.\u001b[0m\u001b[0m__getitem__\u001b[0m\u001b[0;34m(\u001b[0m\u001b[0mindx\u001b[0m\u001b[0;34m)\u001b[0m\u001b[0;34m\u001b[0m\u001b[0;34m\u001b[0m\u001b[0m\n\u001b[0m\u001b[1;32m    520\u001b[0m \u001b[0;34m\u001b[0m\u001b[0m\n\u001b[1;32m    521\u001b[0m         \u001b[0;31m# copy behavior of getattr, except that here\u001b[0m\u001b[0;34m\u001b[0m\u001b[0;34m\u001b[0m\u001b[0;34m\u001b[0m\u001b[0m\n",
      "\u001b[0;31mValueError\u001b[0m: no field of name ***PLEASE READ*** This table is no longer updated and has been replaced by the Planetary Systems table (PS)"
     ]
    }
   ],
   "source": [
    "from PyAstronomy import pyasl\n",
    "import matplotlib.pyplot as plt\n",
    "\n",
    "nexa = pyasl.NasaExoplanetArchive()\n",
    "\n",
    "\n",
    "# See what information is available\n",
    "cols = nexa.availableColumns()\n",
    "print()\n",
    "\n",
    "# Get all information for planet 'wasp-12 b'\n",
    "# By default, the search is case-insensitive\n",
    "print(\"Entry of Wasp-12 b\")\n",
    "print(nexa.selectByPlanetName(\"Wasp-12 b\"))\n",
    "\n",
    "print()\n",
    "# Get all data and plot ra vs. dec\n",
    "dat = nexa.getAllData()\n",
    "plt.plot(dat.ra, dat.dec, 'b.')\n",
    "plt.show()"
   ]
  },
  {
   "cell_type": "markdown",
   "id": "63d1ec31",
   "metadata": {},
   "source": [
    "## Measurements as Random Variables"
   ]
  },
  {
   "cell_type": "code",
   "execution_count": 1,
   "id": "499cc3f7",
   "metadata": {},
   "outputs": [],
   "source": [
    "import numpy.random as rnd\n",
    "import matplotlib.pyplot as plt"
   ]
  },
  {
   "cell_type": "code",
   "execution_count": null,
   "id": "c23d6e81",
   "metadata": {},
   "outputs": [],
   "source": [
    "np.random.seed(19680801)\n",
    "\n",
    "# example data\n",
    "mu = 100  # mean of distribution\n",
    "sigma = 15  # standard deviation of distribution\n",
    "x = mu + sigma * np.random.randn(437)"
   ]
  }
 ],
 "metadata": {
  "kernelspec": {
   "display_name": "Python 3",
   "language": "python",
   "name": "python3"
  },
  "language_info": {
   "codemirror_mode": {
    "name": "ipython",
    "version": 3
   },
   "file_extension": ".py",
   "mimetype": "text/x-python",
   "name": "python",
   "nbconvert_exporter": "python",
   "pygments_lexer": "ipython3",
   "version": "3.8.8"
  }
 },
 "nbformat": 4,
 "nbformat_minor": 5
}
