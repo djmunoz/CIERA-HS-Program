{
 "cells": [
  {
   "cell_type": "markdown",
   "id": "af6ff963",
   "metadata": {},
   "source": [
    "# Measurement Uncertainty and Error Propagation"
   ]
  },
  {
   "cell_type": "markdown",
   "id": "3f03421d",
   "metadata": {},
   "source": [
    "\"All measurements, however careful and scientific, are subject to some uncertainties.\" \n",
    "-J.R Taylor in *An Introduction to Error Analysis*"
   ]
  },
  {
   "cell_type": "markdown",
   "id": "d7d03822",
   "metadata": {},
   "source": [
    "## Inevitability of Uncertainty"
   ]
  },
  {
   "cell_type": "markdown",
   "id": "16c11299",
   "metadata": {},
   "source": [
    "Every time we conduct a measurement, the number we obtain comes with an associated uncertainty. This uncertainty quantifies the precision of the experiment as well as our degree of ignorance of the targeted number.\n",
    "\n",
    "For example, every time we use a tape measure, graduated in eigths of an inch, we may be able to tell that say, the length of a window, is between 54 1/8'' and 54 2/8'' --or between 54.175 in and 54.25 in. But we are unable to precisely tell if the length is 54.18 in or 54.24 in. Moreover, if the tape measure *appears* to exactly fall at the 54 1/8''  mark, we are not able to tell accurately if the length of the window is 54.175 or 54.1750001,"
   ]
  },
  {
   "cell_type": "markdown",
   "id": "de87126a",
   "metadata": {},
   "source": [
    "## Types of error"
   ]
  },
  {
   "cell_type": "markdown",
   "id": "fe92da1e",
   "metadata": {},
   "source": [
    "**Measurement uncertainty** is often (but not always) used interchangeably with **experimental error**"
   ]
  },
  {
   "cell_type": "markdown",
   "id": "b03b9ce8",
   "metadata": {},
   "source": [
    "$({\\rm measured A)=A_{\\rm best}\\pm\\delta A$"
   ]
  }
 ],
 "metadata": {
  "kernelspec": {
   "display_name": "Python 3",
   "language": "python",
   "name": "python3"
  },
  "language_info": {
   "codemirror_mode": {
    "name": "ipython",
    "version": 3
   },
   "file_extension": ".py",
   "mimetype": "text/x-python",
   "name": "python",
   "nbconvert_exporter": "python",
   "pygments_lexer": "ipython3",
   "version": "3.8.8"
  }
 },
 "nbformat": 4,
 "nbformat_minor": 5
}
